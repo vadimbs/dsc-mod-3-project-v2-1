{
 "cells": [
  {
   "cell_type": "markdown",
   "metadata": {},
   "source": [
    "## Final Project Submission\n",
    "\n",
    "Please fill out:\n",
    "* Student name: Vadym Byesyedin\n",
    "* Student pace: self paced\n",
    "* Scheduled project review date/time: 05/12/2021 10:30\n",
    "* Instructor name: Jeff Herman\n",
    "* Blog post URL: ----\n"
   ]
  },
  {
   "cell_type": "markdown",
   "metadata": {},
   "source": [
    "#### Import libraries"
   ]
  },
  {
   "cell_type": "code",
   "execution_count": 1,
   "metadata": {},
   "outputs": [],
   "source": [
    "from import_libraries import *\n",
    "from helper import Helper\n",
    "hlp = Helper();"
   ]
  },
  {
   "cell_type": "markdown",
   "metadata": {},
   "source": [
    "#### Load datasets"
   ]
  },
  {
   "cell_type": "code",
   "execution_count": 2,
   "metadata": {
    "scrolled": true
   },
   "outputs": [],
   "source": [
    "with open('data/preprocessed/train_comb_cats.pickle', 'rb') as file:\n",
    "    train = pickle.load(file)\n",
    "\n",
    "with open('data/preprocessed/test_comb_cats.pickle', 'rb') as file:\n",
    "    test = pickle.load(file)"
   ]
  },
  {
   "cell_type": "markdown",
   "metadata": {},
   "source": [
    "#### Divide into features and labels"
   ]
  },
  {
   "cell_type": "code",
   "execution_count": 3,
   "metadata": {},
   "outputs": [],
   "source": [
    "y_train = train.status_group\n",
    "X_train = train.drop('status_group', axis=1)\n",
    "y_test = test.status_group\n",
    "X_test = test.drop('status_group', axis=1)"
   ]
  },
  {
   "cell_type": "markdown",
   "metadata": {},
   "source": [
    "#### Set up data preprocessor"
   ]
  },
  {
   "cell_type": "code",
   "execution_count": 4,
   "metadata": {},
   "outputs": [],
   "source": [
    "numeric_features = ['gps_height','longitude','latitude','population']#,'construction_year'\n",
    "numeric_transformer = Pipeline(steps=[\n",
    "    ('imputer', SimpleImputer(missing_values=0, strategy='median')),\n",
    "    ('scaler', StandardScaler())])\n",
    "\n",
    "categorical_features = X_train.drop(columns=numeric_features, axis=1).columns\n",
    "categorical_transformer = OneHotEncoder(handle_unknown='ignore', sparse=False)\n",
    "\n",
    "preprocessor = ColumnTransformer(\n",
    "    transformers=[\n",
    "        ('num', numeric_transformer, numeric_features),\n",
    "        ('cat', categorical_transformer, categorical_features)])"
   ]
  },
  {
   "cell_type": "markdown",
   "metadata": {},
   "source": [
    "#### Fit models"
   ]
  },
  {
   "cell_type": "markdown",
   "metadata": {},
   "source": [
    "### Model 0"
   ]
  },
  {
   "cell_type": "code",
   "execution_count": 5,
   "metadata": {},
   "outputs": [],
   "source": [
    "estimators = [    \n",
    "    {\n",
    "        'pipeline': Pipeline(steps=[\n",
    "            ('preprocessor', preprocessor),\n",
    "            ('classifier', BaggingClassifier(DecisionTreeClassifier(max_depth=30,random_state=42),n_jobs=-1))\n",
    "        ]),\n",
    "    },\n",
    "    {\n",
    "        'pipeline': Pipeline(steps=[\n",
    "            ('preprocessor', preprocessor),\n",
    "            ('classifier', xgb.XGBClassifier(random_state=42,n_jobs=-1))\n",
    "        ]),\n",
    "    },\n",
    "    {\n",
    "        'pipeline': Pipeline(steps=[\n",
    "            ('preprocessor', preprocessor),\n",
    "            ('classifier', RandomForestClassifier(random_state=42,n_jobs=-1))\n",
    "        ]),\n",
    "    },\n",
    "    {\n",
    "        'pipeline': Pipeline(steps=[\n",
    "            ('preprocessor', preprocessor),\n",
    "            ('classifier', KNeighborsClassifier(n_jobs=-1))\n",
    "        ]),\n",
    "    },\n",
    "    {\n",
    "        'pipeline': Pipeline(steps=[\n",
    "            ('preprocessor', preprocessor),\n",
    "            ('classifier', MLPClassifier(alpha=1, random_state=42, max_iter=1000))\n",
    "        ]),\n",
    "    },\n",
    "    {\n",
    "        'pipeline': Pipeline(steps=[\n",
    "            ('preprocessor', preprocessor),\n",
    "            ('classifier', AdaBoostClassifier(random_state=42))\n",
    "        ]),\n",
    "    },\n",
    "    {\n",
    "        'pipeline': Pipeline(steps=[\n",
    "            ('preprocessor', preprocessor),\n",
    "            ('classifier', GaussianNB())\n",
    "        ]),\n",
    "    },\n",
    "#     {\n",
    "#         'pipeline': Pipeline(steps=[\n",
    "#             ('preprocessor', preprocessor),\n",
    "#             ('classifier', GaussianProcessClassifier(1.0 * RBF(1.0)))\n",
    "#         ]),\n",
    "#     },\n",
    "    {\n",
    "        'pipeline': Pipeline(steps=[\n",
    "            ('preprocessor', preprocessor),\n",
    "            ('classifier', QuadraticDiscriminantAnalysis())\n",
    "        ]),\n",
    "    },\n",
    "    {\n",
    "        'pipeline': Pipeline(steps=[\n",
    "            ('preprocessor', preprocessor),\n",
    "            ('classifier', SVC(kernel=\"linear\", C=0.025, random_state=42))\n",
    "        ]),\n",
    "    },\n",
    "    {\n",
    "        'pipeline': Pipeline(steps=[\n",
    "            ('preprocessor', preprocessor),\n",
    "            ('classifier', SVC(gamma=2, C=1, random_state=42))\n",
    "        ]),\n",
    "    },\n",
    "]\n",
    "\n",
    "# models, results = hlp.selectEstimator(estimators,X_train,X_test,y_train,y_test,verbose=True)\n",
    "\n",
    "\n",
    "\n",
    "\n",
    "# Running:  BaggingClassifier\n",
    "# \tTrain score:  0.955\n",
    "# \tTest score:   0.788\n",
    "\n",
    "# Running:  XGBClassifier\n",
    "# \tTrain score:  0.744\n",
    "# \tTest score:   0.736\n",
    "\n",
    "# Running:  RandomForestClassifier\n",
    "# \tTrain score:  0.996\n",
    "# \tTest score:   0.795\n",
    "\n",
    "# Running:  KNeighborsClassifier\n",
    "# \tTrain score:  0.836\n",
    "# \tTest score:   0.767\n",
    "\n",
    "# Running:  MLPClassifier\n",
    "# \tTrain score:  0.759\n",
    "# \tTest score:   0.749\n",
    "\n",
    "# Running:  AdaBoostClassifier\n",
    "# \tTrain score:  0.716\n",
    "# \tTest score:   0.717\n",
    "\n",
    "# Running:  GaussianNB\n",
    "# \tTrain score:  0.239\n",
    "# \tTest score:   0.236\n",
    "\n",
    "# Running:  GaussianProcessClassifier\n",
    "# \tDead kernel\n",
    "\n",
    "# Running:  QuadraticDiscriminantAnalysis\n",
    "# \tTrain score:  0.191\n",
    "# \tTest score:   0.189\n",
    "\n",
    "# Running:  SVC\n",
    "# \tTrain score:  0.729\n",
    "# \tTest score:   0.729\n",
    "\n",
    "# Running:  SVC\n",
    "# \tTrain score:  0.898\n",
    "# \tTest score:   0.719"
   ]
  },
  {
   "cell_type": "markdown",
   "metadata": {},
   "source": [
    "### Model 1"
   ]
  },
  {
   "cell_type": "code",
   "execution_count": 8,
   "metadata": {
    "scrolled": false
   },
   "outputs": [
    {
     "name": "stdout",
     "output_type": "stream",
     "text": [
      "\n",
      "Running:  BaggingClassifier\n",
      "\tTrain score:  0.900\n",
      "\tTest score:   0.794\n",
      "\tBest params:  {'classifier__base_estimator__max_depth': 27, 'classifier__base_estimator__min_samples_leaf': 1, 'classifier__base_estimator__min_samples_split': 8}\n",
      "\n",
      "Running:  XGBClassifier\n",
      "\tTrain score:  0.977\n",
      "\tTest score:   0.799\n",
      "\tBest params:  {'classifier__learning_rate': 0.1, 'classifier__max_depth': 23, 'classifier__n_estimators': 100}\n",
      "\n",
      "Running:  RandomForestClassifier\n",
      "\tTrain score:  0.912\n",
      "\tTest score:   0.803\n",
      "\tBest params:  {'classifier__criterion': 'entropy', 'classifier__max_depth': 27, 'classifier__min_samples_leaf': 1, 'classifier__min_samples_split': 4}\n",
      "\n",
      "Running:  KNeighborsClassifier\n",
      "\tTrain score:  0.996\n",
      "\tTest score:   0.774\n",
      "\tBest params:  {'classifier__n_neighbors': 7, 'classifier__weights': 'distance'}\n",
      "\n",
      "Running:  MLPClassifier\n",
      "\tTrain score:  0.805\n",
      "\tTest score:   0.767\n",
      "\tBest params:  {'classifier__alpha': 0.1, 'classifier__hidden_layer_sizes': 15, 'classifier__max_iter': 1000}\n",
      "\n",
      "Running:  AdaBoostClassifier\n",
      "\tTrain score:  0.733\n",
      "\tTest score:   0.732\n",
      "\tBest params:  {'classifier__learning_rate': 0.5, 'classifier__n_estimators': 200}\n"
     ]
    }
   ],
   "source": [
    "estimators = [\n",
    "    {\n",
    "        'pipeline': Pipeline(steps=[\n",
    "            ('preprocessor', preprocessor),\n",
    "            ('classifier', BaggingClassifier(DecisionTreeClassifier(random_state=42),random_state=42,n_jobs=-1))\n",
    "        ]),\n",
    "        'param_grid': [{\n",
    "            'classifier__base_estimator__max_depth': [23,25, 27], \n",
    "            'classifier__base_estimator__min_samples_split': [4,6,8], \n",
    "            'classifier__base_estimator__min_samples_leaf': [1,2]\n",
    "        }]\n",
    "    },\n",
    "    {\n",
    "        'pipeline': Pipeline(steps=[\n",
    "            ('preprocessor', preprocessor),\n",
    "            ('classifier', xgb.XGBClassifier(random_state=42,n_jobs=-1))\n",
    "        ]),\n",
    "        'param_grid': [{\n",
    "            'classifier__max_depth': [23,25, 27], \n",
    "            'classifier__n_estimators': [100,200],\n",
    "            'classifier__learning_rate': [.01,.1,.5]\n",
    "        }]\n",
    "    },\n",
    "    {\n",
    "        'pipeline': Pipeline(steps=[\n",
    "            ('preprocessor', preprocessor),\n",
    "            ('classifier', RandomForestClassifier(n_jobs=-1,))\n",
    "        ]),\n",
    "        'param_grid': [{\n",
    "            'classifier__criterion': ['gini','entropy'], \n",
    "            'classifier__max_depth': [23,25, 27], \n",
    "            'classifier__min_samples_split': [4,6,8], \n",
    "            'classifier__min_samples_leaf': [1,2]\n",
    "        }]\n",
    "    },\n",
    "    {\n",
    "        'pipeline': Pipeline(steps=[\n",
    "            ('preprocessor', preprocessor),\n",
    "            ('classifier', KNeighborsClassifier(n_jobs=-1))\n",
    "        ]),\n",
    "        'param_grid': [{\n",
    "            'classifier__n_neighbors': [3,5,7], \n",
    "            'classifier__weights': ['uniform','distance']\n",
    "        }]\n",
    "    },\n",
    "    {\n",
    "        'pipeline': Pipeline(steps=[\n",
    "            ('preprocessor', preprocessor),\n",
    "            ('classifier', MLPClassifier(solver='lbfgs', alpha=1, random_state=42, max_iter=1000))\n",
    "        ]),\n",
    "        'param_grid': [{\n",
    "            'classifier__max_iter': [1000,1500,2000], \n",
    "            'classifier__alpha': 10.0 ** -np.arange(1, 10), \n",
    "            'classifier__hidden_layer_sizes': [5,10,15]\n",
    "        }]\n",
    "    },\n",
    "    {\n",
    "        'pipeline': Pipeline(steps=[\n",
    "            ('preprocessor', preprocessor),\n",
    "            ('classifier', AdaBoostClassifier(random_state=42))\n",
    "        ]),\n",
    "        'param_grid': [{\n",
    "            'classifier__n_estimators': [100,200], \n",
    "            'classifier__learning_rate': [.01,.1,.5]\n",
    "        }]\n",
    "    },\n",
    "]\n",
    "\n",
    "models, results = hlp.selectEstimator(estimators,X_train,X_test,y_train,y_test,verbose=True)"
   ]
  },
  {
   "cell_type": "code",
   "execution_count": 9,
   "metadata": {},
   "outputs": [
    {
     "data": {
      "text/html": [
       "<div>\n",
       "<style scoped>\n",
       "    .dataframe tbody tr th:only-of-type {\n",
       "        vertical-align: middle;\n",
       "    }\n",
       "\n",
       "    .dataframe tbody tr th {\n",
       "        vertical-align: top;\n",
       "    }\n",
       "\n",
       "    .dataframe thead th {\n",
       "        text-align: right;\n",
       "    }\n",
       "</style>\n",
       "<table border=\"1\" class=\"dataframe\">\n",
       "  <thead>\n",
       "    <tr style=\"text-align: right;\">\n",
       "      <th></th>\n",
       "      <th>Classifier</th>\n",
       "      <th>Train score</th>\n",
       "      <th>Test score</th>\n",
       "      <th>Best params</th>\n",
       "    </tr>\n",
       "  </thead>\n",
       "  <tbody>\n",
       "    <tr>\n",
       "      <th>2</th>\n",
       "      <td>RandomForestClassifier</td>\n",
       "      <td>0.912</td>\n",
       "      <td>0.803</td>\n",
       "      <td>{'classifier__criterion': 'entropy', 'classifier__max_depth': 27, 'classifier__min_samples_leaf': 1, 'classifier__min_samples_split': 4}</td>\n",
       "    </tr>\n",
       "    <tr>\n",
       "      <th>1</th>\n",
       "      <td>XGBClassifier</td>\n",
       "      <td>0.977</td>\n",
       "      <td>0.799</td>\n",
       "      <td>{'classifier__learning_rate': 0.1, 'classifier__max_depth': 23, 'classifier__n_estimators': 100}</td>\n",
       "    </tr>\n",
       "    <tr>\n",
       "      <th>0</th>\n",
       "      <td>BaggingClassifier</td>\n",
       "      <td>0.900</td>\n",
       "      <td>0.794</td>\n",
       "      <td>{'classifier__base_estimator__max_depth': 27, 'classifier__base_estimator__min_samples_leaf': 1, 'classifier__base_estimator__min_samples_split': 8}</td>\n",
       "    </tr>\n",
       "    <tr>\n",
       "      <th>3</th>\n",
       "      <td>KNeighborsClassifier</td>\n",
       "      <td>0.996</td>\n",
       "      <td>0.774</td>\n",
       "      <td>{'classifier__n_neighbors': 7, 'classifier__weights': 'distance'}</td>\n",
       "    </tr>\n",
       "    <tr>\n",
       "      <th>4</th>\n",
       "      <td>MLPClassifier</td>\n",
       "      <td>0.805</td>\n",
       "      <td>0.767</td>\n",
       "      <td>{'classifier__alpha': 0.1, 'classifier__hidden_layer_sizes': 15, 'classifier__max_iter': 1000}</td>\n",
       "    </tr>\n",
       "    <tr>\n",
       "      <th>5</th>\n",
       "      <td>AdaBoostClassifier</td>\n",
       "      <td>0.733</td>\n",
       "      <td>0.732</td>\n",
       "      <td>{'classifier__learning_rate': 0.5, 'classifier__n_estimators': 200}</td>\n",
       "    </tr>\n",
       "  </tbody>\n",
       "</table>\n",
       "</div>"
      ],
      "text/plain": [
       "               Classifier Train score Test score  \\\n",
       "2  RandomForestClassifier       0.912      0.803   \n",
       "1           XGBClassifier       0.977      0.799   \n",
       "0       BaggingClassifier       0.900      0.794   \n",
       "3    KNeighborsClassifier       0.996      0.774   \n",
       "4           MLPClassifier       0.805      0.767   \n",
       "5      AdaBoostClassifier       0.733      0.732   \n",
       "\n",
       "                                                                                                                                            Best params  \n",
       "2              {'classifier__criterion': 'entropy', 'classifier__max_depth': 27, 'classifier__min_samples_leaf': 1, 'classifier__min_samples_split': 4}  \n",
       "1                                                      {'classifier__learning_rate': 0.1, 'classifier__max_depth': 23, 'classifier__n_estimators': 100}  \n",
       "0  {'classifier__base_estimator__max_depth': 27, 'classifier__base_estimator__min_samples_leaf': 1, 'classifier__base_estimator__min_samples_split': 8}  \n",
       "3                                                                                     {'classifier__n_neighbors': 7, 'classifier__weights': 'distance'}  \n",
       "4                                                        {'classifier__alpha': 0.1, 'classifier__hidden_layer_sizes': 15, 'classifier__max_iter': 1000}  \n",
       "5                                                                                   {'classifier__learning_rate': 0.5, 'classifier__n_estimators': 200}  "
      ]
     },
     "metadata": {},
     "output_type": "display_data"
    }
   ],
   "source": [
    "pd.set_option(\"max_colwidth\", 999)\n",
    "display(results)"
   ]
  },
  {
   "cell_type": "markdown",
   "metadata": {},
   "source": [
    "#### Save model and results"
   ]
  },
  {
   "cell_type": "code",
   "execution_count": 11,
   "metadata": {},
   "outputs": [],
   "source": [
    "with open('data/models/model1.pickle', 'wb') as file:\n",
    "    pickle.dump({\n",
    "        'models': models,\n",
    "        'results': results\n",
    "    }, file)"
   ]
  },
  {
   "cell_type": "markdown",
   "metadata": {},
   "source": [
    "### Model 2"
   ]
  },
  {
   "cell_type": "code",
   "execution_count": 14,
   "metadata": {
    "scrolled": false
   },
   "outputs": [
    {
     "name": "stdout",
     "output_type": "stream",
     "text": [
      "\n",
      "Running:  BaggingClassifier\n",
      "\tTrain score:  0.891\n",
      "\tTest score:   0.795\n",
      "\tBest params:  {'classifier__base_estimator__max_depth': 26, 'classifier__base_estimator__min_samples_split': 9}\n",
      "\n",
      "Running:  XGBClassifier\n",
      "\tTrain score:  0.972\n",
      "\tTest score:   0.803\n",
      "\tBest params:  {'classifier__learning_rate': 0.1, 'classifier__max_depth': 22, 'classifier__n_estimators': 100}\n",
      "\n",
      "Running:  RandomForestClassifier\n",
      "\tTrain score:  0.918\n",
      "\tTest score:   0.804\n",
      "\tBest params:  {'classifier__max_depth': 28, 'classifier__min_samples_split': 4}\n",
      "\n",
      "Running:  KNeighborsClassifier\n",
      "\tTrain score:  0.996\n",
      "\tTest score:   0.775\n",
      "\tBest params:  {'classifier__n_neighbors': 8}\n",
      "\n",
      "Running:  MLPClassifier\n",
      "\tTrain score:  0.816\n",
      "\tTest score:   0.772\n",
      "\tBest params:  {'classifier__alpha': 0.5, 'classifier__hidden_layer_sizes': 16, 'classifier__max_iter': 1000}\n",
      "\n",
      "Running:  AdaBoostClassifier\n",
      "\tTrain score:  0.740\n",
      "\tTest score:   0.740\n",
      "\tBest params:  {'classifier__learning_rate': 1, 'classifier__n_estimators': 250}\n"
     ]
    }
   ],
   "source": [
    "estimators = [\n",
    "    {\n",
    "        'pipeline': Pipeline(steps=[\n",
    "            ('preprocessor', preprocessor),\n",
    "            ('classifier', BaggingClassifier(DecisionTreeClassifier(random_state=42),random_state=42,n_jobs=-1))\n",
    "        ]),\n",
    "        'param_grid': [{\n",
    "            'classifier__base_estimator__max_depth': [26,27,28], \n",
    "            'classifier__base_estimator__min_samples_split': [7,8,9]\n",
    "        }]\n",
    "    },\n",
    "    {\n",
    "        'pipeline': Pipeline(steps=[\n",
    "            ('preprocessor', preprocessor),\n",
    "            ('classifier', xgb.XGBClassifier(random_state=42,n_jobs=-1))\n",
    "        ]),\n",
    "        'param_grid': [{\n",
    "            'classifier__max_depth': [22,23,24], \n",
    "            'classifier__n_estimators': [50,100,150],\n",
    "            'classifier__learning_rate': [.05,.1,.2]\n",
    "        }]\n",
    "    },\n",
    "    {\n",
    "        'pipeline': Pipeline(steps=[\n",
    "            ('preprocessor', preprocessor),\n",
    "            ('classifier', RandomForestClassifier(n_jobs=-1,criterion='entropy'))\n",
    "        ]),\n",
    "        'param_grid': [{\n",
    "            'classifier__max_depth': [26,27,28], \n",
    "            'classifier__min_samples_split': [3,4,5]\n",
    "        }]\n",
    "    },\n",
    "    {\n",
    "        'pipeline': Pipeline(steps=[\n",
    "            ('preprocessor', preprocessor),\n",
    "            ('classifier', KNeighborsClassifier(n_jobs=-1,weights='distance'))\n",
    "        ]),\n",
    "        'param_grid': [{\n",
    "            'classifier__n_neighbors': [6,7,8]\n",
    "        }]\n",
    "    },\n",
    "    {\n",
    "        'pipeline': Pipeline(steps=[\n",
    "            ('preprocessor', preprocessor),\n",
    "            ('classifier', MLPClassifier(solver='lbfgs', random_state=42))\n",
    "        ]),\n",
    "        'param_grid': [{\n",
    "            'classifier__max_iter': [800,1000,1200], \n",
    "            'classifier__alpha': [.05,.1,.5], \n",
    "            'classifier__hidden_layer_sizes': [14,15,16]\n",
    "        }]\n",
    "    },\n",
    "    {\n",
    "        'pipeline': Pipeline(steps=[\n",
    "            ('preprocessor', preprocessor),\n",
    "            ('classifier', AdaBoostClassifier(random_state=42))\n",
    "        ]),\n",
    "        'param_grid': [{\n",
    "            'classifier__n_estimators': [150,200,250], \n",
    "            'classifier__learning_rate': [.5,1]\n",
    "        }]\n",
    "    },\n",
    "]\n",
    "\n",
    "models, results = hlp.selectEstimator(estimators,X_train,X_test,y_train,y_test,verbose=True)"
   ]
  },
  {
   "cell_type": "markdown",
   "metadata": {},
   "source": [
    "#### Save model and results"
   ]
  },
  {
   "cell_type": "code",
   "execution_count": 15,
   "metadata": {},
   "outputs": [],
   "source": [
    "with open('data/models/model2.pickle', 'wb') as file:\n",
    "    pickle.dump({\n",
    "        'models': models,\n",
    "        'results': results\n",
    "    }, file)"
   ]
  },
  {
   "cell_type": "code",
   "execution_count": 16,
   "metadata": {
    "scrolled": true
   },
   "outputs": [
    {
     "data": {
      "text/html": [
       "<div>\n",
       "<style scoped>\n",
       "    .dataframe tbody tr th:only-of-type {\n",
       "        vertical-align: middle;\n",
       "    }\n",
       "\n",
       "    .dataframe tbody tr th {\n",
       "        vertical-align: top;\n",
       "    }\n",
       "\n",
       "    .dataframe thead th {\n",
       "        text-align: right;\n",
       "    }\n",
       "</style>\n",
       "<table border=\"1\" class=\"dataframe\">\n",
       "  <thead>\n",
       "    <tr style=\"text-align: right;\">\n",
       "      <th></th>\n",
       "      <th>Classifier</th>\n",
       "      <th>Train score</th>\n",
       "      <th>Test score</th>\n",
       "      <th>Best params</th>\n",
       "    </tr>\n",
       "  </thead>\n",
       "  <tbody>\n",
       "    <tr>\n",
       "      <th>2</th>\n",
       "      <td>RandomForestClassifier</td>\n",
       "      <td>0.918</td>\n",
       "      <td>0.804</td>\n",
       "      <td>{'classifier__max_depth': 28, 'classifier__min_samples_split': 4}</td>\n",
       "    </tr>\n",
       "    <tr>\n",
       "      <th>1</th>\n",
       "      <td>XGBClassifier</td>\n",
       "      <td>0.972</td>\n",
       "      <td>0.803</td>\n",
       "      <td>{'classifier__learning_rate': 0.1, 'classifier__max_depth': 22, 'classifier__n_estimators': 100}</td>\n",
       "    </tr>\n",
       "    <tr>\n",
       "      <th>0</th>\n",
       "      <td>BaggingClassifier</td>\n",
       "      <td>0.891</td>\n",
       "      <td>0.795</td>\n",
       "      <td>{'classifier__base_estimator__max_depth': 26, 'classifier__base_estimator__min_samples_split': 9}</td>\n",
       "    </tr>\n",
       "    <tr>\n",
       "      <th>3</th>\n",
       "      <td>KNeighborsClassifier</td>\n",
       "      <td>0.996</td>\n",
       "      <td>0.775</td>\n",
       "      <td>{'classifier__n_neighbors': 8}</td>\n",
       "    </tr>\n",
       "    <tr>\n",
       "      <th>4</th>\n",
       "      <td>MLPClassifier</td>\n",
       "      <td>0.816</td>\n",
       "      <td>0.772</td>\n",
       "      <td>{'classifier__alpha': 0.5, 'classifier__hidden_layer_sizes': 16, 'classifier__max_iter': 1000}</td>\n",
       "    </tr>\n",
       "    <tr>\n",
       "      <th>5</th>\n",
       "      <td>AdaBoostClassifier</td>\n",
       "      <td>0.740</td>\n",
       "      <td>0.740</td>\n",
       "      <td>{'classifier__learning_rate': 1, 'classifier__n_estimators': 250}</td>\n",
       "    </tr>\n",
       "  </tbody>\n",
       "</table>\n",
       "</div>"
      ],
      "text/plain": [
       "               Classifier Train score Test score  \\\n",
       "2  RandomForestClassifier       0.918      0.804   \n",
       "1           XGBClassifier       0.972      0.803   \n",
       "0       BaggingClassifier       0.891      0.795   \n",
       "3    KNeighborsClassifier       0.996      0.775   \n",
       "4           MLPClassifier       0.816      0.772   \n",
       "5      AdaBoostClassifier       0.740      0.740   \n",
       "\n",
       "                                                                                         Best params  \n",
       "2                                  {'classifier__max_depth': 28, 'classifier__min_samples_split': 4}  \n",
       "1   {'classifier__learning_rate': 0.1, 'classifier__max_depth': 22, 'classifier__n_estimators': 100}  \n",
       "0  {'classifier__base_estimator__max_depth': 26, 'classifier__base_estimator__min_samples_split': 9}  \n",
       "3                                                                     {'classifier__n_neighbors': 8}  \n",
       "4     {'classifier__alpha': 0.5, 'classifier__hidden_layer_sizes': 16, 'classifier__max_iter': 1000}  \n",
       "5                                  {'classifier__learning_rate': 1, 'classifier__n_estimators': 250}  "
      ]
     },
     "metadata": {},
     "output_type": "display_data"
    }
   ],
   "source": [
    "display(results)"
   ]
  },
  {
   "cell_type": "markdown",
   "metadata": {},
   "source": [
    "### Model 3"
   ]
  },
  {
   "cell_type": "code",
   "execution_count": 17,
   "metadata": {
    "scrolled": true
   },
   "outputs": [
    {
     "name": "stdout",
     "output_type": "stream",
     "text": [
      "\n",
      "Running:  BaggingClassifier\n",
      "\tTrain score:  0.884\n",
      "\tTest score:   0.793\n",
      "\tBest params:  {'classifier__base_estimator__max_depth': 25, 'classifier__base_estimator__min_samples_split': 10}\n",
      "\n",
      "Running:  XGBClassifier\n",
      "\tTrain score:  0.927\n",
      "\tTest score:   0.800\n",
      "\tBest params:  {'classifier__max_depth': 16}\n",
      "\n",
      "Running:  RandomForestClassifier\n",
      "\tTrain score:  0.938\n",
      "\tTest score:   0.805\n",
      "\tBest params:  {'classifier__max_depth': 32}\n"
     ]
    }
   ],
   "source": [
    "estimators = [\n",
    "    {\n",
    "        'pipeline': Pipeline(steps=[\n",
    "            ('preprocessor', preprocessor),\n",
    "            ('classifier', BaggingClassifier(DecisionTreeClassifier(random_state=42),random_state=42,n_jobs=-1))\n",
    "        ]),\n",
    "        'param_grid': [{\n",
    "            'classifier__base_estimator__max_depth': [23,24,25], \n",
    "            'classifier__base_estimator__min_samples_split': [10,15]\n",
    "        }]\n",
    "    },\n",
    "    {\n",
    "        'pipeline': Pipeline(steps=[\n",
    "            ('preprocessor', preprocessor),\n",
    "            ('classifier', xgb.XGBClassifier(random_state=42,n_jobs=-1,learning_rate=.1))\n",
    "        ]),\n",
    "        'param_grid': [{\n",
    "            'classifier__max_depth': [16,18,20],\n",
    "        }]\n",
    "    },\n",
    "    {\n",
    "        'pipeline': Pipeline(steps=[\n",
    "            ('preprocessor', preprocessor),\n",
    "            ('classifier', RandomForestClassifier(n_jobs=-1,criterion='entropy',min_samples_split=4))\n",
    "        ]),\n",
    "        'param_grid': [{\n",
    "            'classifier__max_depth': [30,32,34],\n",
    "        }]\n",
    "    },\n",
    "]\n",
    "\n",
    "models, results = hlp.selectEstimator(estimators,X_train,X_test,y_train,y_test,verbose=True)"
   ]
  },
  {
   "cell_type": "markdown",
   "metadata": {},
   "source": [
    "#### Save model and results"
   ]
  },
  {
   "cell_type": "code",
   "execution_count": 18,
   "metadata": {},
   "outputs": [],
   "source": [
    "with open('data/models/model3.pickle', 'wb') as file:\n",
    "    pickle.dump({\n",
    "        'models': models,\n",
    "        'results': results\n",
    "    }, file)"
   ]
  },
  {
   "cell_type": "code",
   "execution_count": 19,
   "metadata": {},
   "outputs": [
    {
     "data": {
      "text/html": [
       "<div>\n",
       "<style scoped>\n",
       "    .dataframe tbody tr th:only-of-type {\n",
       "        vertical-align: middle;\n",
       "    }\n",
       "\n",
       "    .dataframe tbody tr th {\n",
       "        vertical-align: top;\n",
       "    }\n",
       "\n",
       "    .dataframe thead th {\n",
       "        text-align: right;\n",
       "    }\n",
       "</style>\n",
       "<table border=\"1\" class=\"dataframe\">\n",
       "  <thead>\n",
       "    <tr style=\"text-align: right;\">\n",
       "      <th></th>\n",
       "      <th>Classifier</th>\n",
       "      <th>Train score</th>\n",
       "      <th>Test score</th>\n",
       "      <th>Best params</th>\n",
       "    </tr>\n",
       "  </thead>\n",
       "  <tbody>\n",
       "    <tr>\n",
       "      <th>2</th>\n",
       "      <td>RandomForestClassifier</td>\n",
       "      <td>0.938</td>\n",
       "      <td>0.805</td>\n",
       "      <td>{'classifier__max_depth': 32}</td>\n",
       "    </tr>\n",
       "    <tr>\n",
       "      <th>1</th>\n",
       "      <td>XGBClassifier</td>\n",
       "      <td>0.927</td>\n",
       "      <td>0.800</td>\n",
       "      <td>{'classifier__max_depth': 16}</td>\n",
       "    </tr>\n",
       "    <tr>\n",
       "      <th>0</th>\n",
       "      <td>BaggingClassifier</td>\n",
       "      <td>0.884</td>\n",
       "      <td>0.793</td>\n",
       "      <td>{'classifier__base_estimator__max_depth': 25, 'classifier__base_estimator__min_samples_split': 10}</td>\n",
       "    </tr>\n",
       "  </tbody>\n",
       "</table>\n",
       "</div>"
      ],
      "text/plain": [
       "               Classifier Train score Test score  \\\n",
       "2  RandomForestClassifier       0.938      0.805   \n",
       "1           XGBClassifier       0.927      0.800   \n",
       "0       BaggingClassifier       0.884      0.793   \n",
       "\n",
       "                                                                                          Best params  \n",
       "2                                                                       {'classifier__max_depth': 32}  \n",
       "1                                                                       {'classifier__max_depth': 16}  \n",
       "0  {'classifier__base_estimator__max_depth': 25, 'classifier__base_estimator__min_samples_split': 10}  "
      ]
     },
     "metadata": {},
     "output_type": "display_data"
    }
   ],
   "source": [
    "display(results)"
   ]
  },
  {
   "cell_type": "markdown",
   "metadata": {},
   "source": [
    "### Model 4"
   ]
  },
  {
   "cell_type": "code",
   "execution_count": 20,
   "metadata": {
    "scrolled": true
   },
   "outputs": [
    {
     "name": "stdout",
     "output_type": "stream",
     "text": [
      "\n",
      "Running:  BaggingClassifier\n",
      "\tTrain score:  0.891\n",
      "\tTest score:   0.795\n",
      "\n",
      "Running:  XGBClassifier\n",
      "\tTrain score:  0.916\n",
      "\tTest score:   0.801\n",
      "\tBest params:  {'classifier__max_depth': 15}\n",
      "\n",
      "Running:  RandomForestClassifier\n",
      "\tTrain score:  0.936\n",
      "\tTest score:   0.802\n",
      "\tBest params:  {'classifier__max_depth': 32}\n"
     ]
    }
   ],
   "source": [
    "estimators = [\n",
    "    {\n",
    "        'pipeline': Pipeline(steps=[\n",
    "            ('preprocessor', preprocessor),\n",
    "            ('classifier', BaggingClassifier(\n",
    "                DecisionTreeClassifier(random_state=42,max_depth=26,min_samples_split=9),\n",
    "                random_state=42,n_jobs=-1))\n",
    "        ]),\n",
    "    },\n",
    "    {\n",
    "        'pipeline': Pipeline(steps=[\n",
    "            ('preprocessor', preprocessor),\n",
    "            ('classifier', xgb.XGBClassifier(random_state=42,n_jobs=-1,learning_rate=.1))\n",
    "        ]),\n",
    "        'param_grid': [{\n",
    "            'classifier__max_depth': [11,13,15],\n",
    "        }]\n",
    "    },\n",
    "    {\n",
    "        'pipeline': Pipeline(steps=[\n",
    "            ('preprocessor', preprocessor),\n",
    "            ('classifier', RandomForestClassifier(n_jobs=-1,criterion='entropy',min_samples_split=4))\n",
    "        ]),\n",
    "        'param_grid': [{\n",
    "            'classifier__max_depth': [31,32,33],\n",
    "        }]\n",
    "    },\n",
    "]\n",
    "\n",
    "models, results = hlp.selectEstimator(estimators,X_train,X_test,y_train,y_test,verbose=True)"
   ]
  },
  {
   "cell_type": "markdown",
   "metadata": {},
   "source": [
    "#### Save model and results"
   ]
  },
  {
   "cell_type": "code",
   "execution_count": 21,
   "metadata": {},
   "outputs": [],
   "source": [
    "with open('data/models/model4.pickle', 'wb') as file:\n",
    "    pickle.dump({\n",
    "        'models': models,\n",
    "        'results': results\n",
    "    }, file)"
   ]
  },
  {
   "cell_type": "code",
   "execution_count": 22,
   "metadata": {},
   "outputs": [
    {
     "data": {
      "text/html": [
       "<div>\n",
       "<style scoped>\n",
       "    .dataframe tbody tr th:only-of-type {\n",
       "        vertical-align: middle;\n",
       "    }\n",
       "\n",
       "    .dataframe tbody tr th {\n",
       "        vertical-align: top;\n",
       "    }\n",
       "\n",
       "    .dataframe thead th {\n",
       "        text-align: right;\n",
       "    }\n",
       "</style>\n",
       "<table border=\"1\" class=\"dataframe\">\n",
       "  <thead>\n",
       "    <tr style=\"text-align: right;\">\n",
       "      <th></th>\n",
       "      <th>Classifier</th>\n",
       "      <th>Train score</th>\n",
       "      <th>Test score</th>\n",
       "      <th>Best params</th>\n",
       "    </tr>\n",
       "  </thead>\n",
       "  <tbody>\n",
       "    <tr>\n",
       "      <th>2</th>\n",
       "      <td>RandomForestClassifier</td>\n",
       "      <td>0.936</td>\n",
       "      <td>0.802</td>\n",
       "      <td>{'classifier__max_depth': 32}</td>\n",
       "    </tr>\n",
       "    <tr>\n",
       "      <th>1</th>\n",
       "      <td>XGBClassifier</td>\n",
       "      <td>0.916</td>\n",
       "      <td>0.801</td>\n",
       "      <td>{'classifier__max_depth': 15}</td>\n",
       "    </tr>\n",
       "    <tr>\n",
       "      <th>0</th>\n",
       "      <td>BaggingClassifier</td>\n",
       "      <td>0.891</td>\n",
       "      <td>0.795</td>\n",
       "      <td></td>\n",
       "    </tr>\n",
       "  </tbody>\n",
       "</table>\n",
       "</div>"
      ],
      "text/plain": [
       "               Classifier Train score Test score  \\\n",
       "2  RandomForestClassifier       0.936      0.802   \n",
       "1           XGBClassifier       0.916      0.801   \n",
       "0       BaggingClassifier       0.891      0.795   \n",
       "\n",
       "                     Best params  \n",
       "2  {'classifier__max_depth': 32}  \n",
       "1  {'classifier__max_depth': 15}  \n",
       "0                                 "
      ]
     },
     "metadata": {},
     "output_type": "display_data"
    }
   ],
   "source": [
    "display(results)"
   ]
  },
  {
   "cell_type": "markdown",
   "metadata": {},
   "source": [
    "#### RandomForestClassifier shows the best result, so we will use it further"
   ]
  },
  {
   "cell_type": "markdown",
   "metadata": {},
   "source": [
    "#### Try `IterativeImputer()` instead of `SimpleImputer()`"
   ]
  },
  {
   "cell_type": "code",
   "execution_count": 25,
   "metadata": {},
   "outputs": [],
   "source": [
    "numeric_transformer_itr = Pipeline(steps=[\n",
    "    ('imputer', IterativeImputer(max_iter=10, random_state=42, missing_values=0, initial_strategy='median')),\n",
    "    ('scaler', StandardScaler())])\n",
    "\n",
    "preprocessor_itr = ColumnTransformer(\n",
    "    transformers=[\n",
    "        ('num', numeric_transformer_itr, numeric_features),\n",
    "        ('cat', categorical_transformer, categorical_features)])"
   ]
  },
  {
   "cell_type": "code",
   "execution_count": 26,
   "metadata": {},
   "outputs": [
    {
     "name": "stdout",
     "output_type": "stream",
     "text": [
      "\n",
      "Running:  RandomForestClassifier\n",
      "\tTrain score:  0.939\n",
      "\tTest score:   0.803\n"
     ]
    }
   ],
   "source": [
    "estimators = [\n",
    "    {\n",
    "        'pipeline': Pipeline(steps=[\n",
    "            ('preprocessor', preprocessor_itr),\n",
    "            ('classifier', RandomForestClassifier(n_jobs=-1,criterion='entropy',\n",
    "                                                  min_samples_split=4,max_depth=32))\n",
    "        ]),\n",
    "    },\n",
    "]\n",
    "\n",
    "models, results = hlp.selectEstimator(estimators,X_train,X_test,y_train,y_test,verbose=True)"
   ]
  },
  {
   "cell_type": "markdown",
   "metadata": {},
   "source": [
    "Looks like there is no significant difference between `IterativeImputer()` and `SimpleImputer()`"
   ]
  },
  {
   "cell_type": "markdown",
   "metadata": {},
   "source": [
    "#### Fit model using cleaned features and `SimpleImputer()`"
   ]
  },
  {
   "cell_type": "code",
   "execution_count": 28,
   "metadata": {},
   "outputs": [],
   "source": [
    "with open('data/preprocessed/train_comb_cats_cleaned.pickle', 'rb') as file:\n",
    "    train_cleaned = pickle.load(file)"
   ]
  },
  {
   "cell_type": "code",
   "execution_count": 29,
   "metadata": {},
   "outputs": [],
   "source": [
    "y_train_cleaned = train_cleaned.status_group\n",
    "X_train_cleaned = train_cleaned.drop('status_group', axis=1)"
   ]
  },
  {
   "cell_type": "code",
   "execution_count": 30,
   "metadata": {},
   "outputs": [
    {
     "name": "stdout",
     "output_type": "stream",
     "text": [
      "\n",
      "Running:  RandomForestClassifier\n",
      "\tTrain score:  0.952\n",
      "\tTest score:   0.767\n"
     ]
    }
   ],
   "source": [
    "estimators = [\n",
    "    {\n",
    "        'pipeline': Pipeline(steps=[\n",
    "            ('preprocessor', preprocessor),\n",
    "            ('classifier', RandomForestClassifier(n_jobs=-1,criterion='entropy',\n",
    "                                                  min_samples_split=4,max_depth=32))\n",
    "        ]),\n",
    "    },\n",
    "]\n",
    "\n",
    "models, results = hlp.selectEstimator(estimators,X_train_cleaned,X_test,y_train_cleaned,y_test,verbose=True)"
   ]
  },
  {
   "cell_type": "markdown",
   "metadata": {},
   "source": [
    "Model fits worse with cleaned dataset"
   ]
  },
  {
   "cell_type": "markdown",
   "metadata": {},
   "source": [
    "#### Examine model 4 RandomForestClassifier as most successive"
   ]
  },
  {
   "cell_type": "code",
   "execution_count": 37,
   "metadata": {},
   "outputs": [],
   "source": [
    "with open('data/models/model4.pickle', 'rb') as file:\n",
    "    model4_file = pickle.load(file)"
   ]
  },
  {
   "cell_type": "code",
   "execution_count": 80,
   "metadata": {},
   "outputs": [],
   "source": [
    "# model4_rf = model4_file['models']['RandomForestClassifier'].best_estimator_._final_estimator\n",
    "# importance = model4_rf.feature_importances_\n",
    "# importance"
   ]
  },
  {
   "cell_type": "code",
   "execution_count": 78,
   "metadata": {},
   "outputs": [
    {
     "data": {
      "image/png": "[encoded data removed]",
      "text/plain": [
       "<Figure size 432x288 with 2 Axes>"
      ]
     },
     "metadata": {
      "needs_background": "light"
     },
     "output_type": "display_data"
    }
   ],
   "source": [
    "plot_confusion_matrix(model4_file['models']['RandomForestClassifier'],X_test, y_test,\n",
    "                      xticks_rotation='vertical', normalize='all');"
   ]
  },
  {
   "cell_type": "markdown",
   "metadata": {},
   "source": [
    "Check model score again"
   ]
  },
  {
   "cell_type": "code",
   "execution_count": 79,
   "metadata": {},
   "outputs": [
    {
     "data": {
      "text/plain": [
       "0.8022895622895623"
      ]
     },
     "execution_count": 79,
     "metadata": {},
     "output_type": "execute_result"
    }
   ],
   "source": [
    "accuracy_score(y_test,model4_file['models']['RandomForestClassifier'].predict(X_test))"
   ]
  },
  {
   "cell_type": "markdown",
   "metadata": {},
   "source": [
    "## Fit model for submission"
   ]
  },
  {
   "cell_type": "code",
   "execution_count": 89,
   "metadata": {},
   "outputs": [],
   "source": [
    "with open('data/preprocessed/train_for_SM.pickle', 'rb') as file:\n",
    "    train_for_SM = pickle.load(file)\n",
    "    \n",
    "with open('data/preprocessed/test_for_SM.pickle', 'rb') as file:\n",
    "    test_for_SM = pickle.load(file)"
   ]
  },
  {
   "cell_type": "code",
   "execution_count": 90,
   "metadata": {},
   "outputs": [],
   "source": [
    "y_train_sm = train_for_SM.status_group\n",
    "X_train_sm = train_for_SM.drop('status_group', axis=1)\n",
    "\n",
    "X_test_sm = test_for_SM"
   ]
  },
  {
   "cell_type": "code",
   "execution_count": 91,
   "metadata": {},
   "outputs": [
    {
     "data": {
      "text/plain": [
       "GridSearchCV(cv=5, error_score=nan,\n",
       "             estimator=Pipeline(memory=None,\n",
       "                                steps=[('preprocessor',\n",
       "                                        ColumnTransformer(n_jobs=None,\n",
       "                                                          remainder='drop',\n",
       "                                                          sparse_threshold=0.3,\n",
       "                                                          transformer_weights=None,\n",
       "                                                          transformers=[('num',\n",
       "                                                                         Pipeline(memory=None,\n",
       "                                                                                  steps=[('imputer',\n",
       "                                                                                          SimpleImputer(add_indicator=False,\n",
       "                                                                                                        copy=True,\n",
       "                                                                                                        fill_value=None,\n",
       "                                                                                                        missing_values=0,\n",
       "                                                                                                        strategy='median',\n",
       "                                                                                                        verbose=0)),\n",
       "                                                                                         ('...\n",
       "                                                               min_impurity_decrease=0.0,\n",
       "                                                               min_impurity_split=None,\n",
       "                                                               min_samples_leaf=1,\n",
       "                                                               min_samples_split=4,\n",
       "                                                               min_weight_fraction_leaf=0.0,\n",
       "                                                               n_estimators=100,\n",
       "                                                               n_jobs=-1,\n",
       "                                                               oob_score=False,\n",
       "                                                               random_state=None,\n",
       "                                                               verbose=0,\n",
       "                                                               warm_start=False))],\n",
       "                                verbose=False),\n",
       "             iid='deprecated', n_jobs=None, param_grid=[{}],\n",
       "             pre_dispatch='2*n_jobs', refit=True, return_train_score=False,\n",
       "             scoring='accuracy', verbose=0)"
      ]
     },
     "execution_count": 91,
     "metadata": {},
     "output_type": "execute_result"
    }
   ],
   "source": [
    "pipe = Pipeline(steps=[\n",
    "    ('preprocessor', preprocessor),\n",
    "    ('classifier', RandomForestClassifier(n_jobs=-1,criterion='entropy', min_samples_split=4,max_depth=32))\n",
    "])\n",
    "\n",
    "gridsearch = GridSearchCV(pipe,param_grid=[{}],scoring='accuracy',cv=5)\n",
    "\n",
    "# Fit the training data\n",
    "gridsearch.fit(X_train_sm,y_train_sm)"
   ]
  },
  {
   "cell_type": "code",
   "execution_count": 92,
   "metadata": {},
   "outputs": [],
   "source": [
    "y_hat = gridsearch.predict(X_test_sm)"
   ]
  },
  {
   "cell_type": "markdown",
   "metadata": {},
   "source": []
  },
  {
   "cell_type": "code",
   "execution_count": 93,
   "metadata": {},
   "outputs": [
    {
     "data": {
      "text/html": [
       "<div>\n",
       "<style scoped>\n",
       "    .dataframe tbody tr th:only-of-type {\n",
       "        vertical-align: middle;\n",
       "    }\n",
       "\n",
       "    .dataframe tbody tr th {\n",
       "        vertical-align: top;\n",
       "    }\n",
       "\n",
       "    .dataframe thead th {\n",
       "        text-align: right;\n",
       "    }\n",
       "</style>\n",
       "<table border=\"1\" class=\"dataframe\">\n",
       "  <thead>\n",
       "    <tr style=\"text-align: right;\">\n",
       "      <th></th>\n",
       "      <th>id</th>\n",
       "      <th>status_group</th>\n",
       "    </tr>\n",
       "  </thead>\n",
       "  <tbody>\n",
       "    <tr>\n",
       "      <th>0</th>\n",
       "      <td>50785</td>\n",
       "      <td>predicted label</td>\n",
       "    </tr>\n",
       "    <tr>\n",
       "      <th>1</th>\n",
       "      <td>51630</td>\n",
       "      <td>predicted label</td>\n",
       "    </tr>\n",
       "    <tr>\n",
       "      <th>2</th>\n",
       "      <td>17168</td>\n",
       "      <td>predicted label</td>\n",
       "    </tr>\n",
       "    <tr>\n",
       "      <th>3</th>\n",
       "      <td>45559</td>\n",
       "      <td>predicted label</td>\n",
       "    </tr>\n",
       "    <tr>\n",
       "      <th>4</th>\n",
       "      <td>49871</td>\n",
       "      <td>predicted label</td>\n",
       "    </tr>\n",
       "  </tbody>\n",
       "</table>\n",
       "</div>"
      ],
      "text/plain": [
       "      id     status_group\n",
       "0  50785  predicted label\n",
       "1  51630  predicted label\n",
       "2  17168  predicted label\n",
       "3  45559  predicted label\n",
       "4  49871  predicted label"
      ]
     },
     "execution_count": 93,
     "metadata": {},
     "output_type": "execute_result"
    }
   ],
   "source": [
    "submission_format = pd.read_csv('data/downloaded/SubmissionFormat.csv')\n",
    "submission_format.head()"
   ]
  },
  {
   "cell_type": "code",
   "execution_count": 96,
   "metadata": {},
   "outputs": [
    {
     "data": {
      "text/html": [
       "<div>\n",
       "<style scoped>\n",
       "    .dataframe tbody tr th:only-of-type {\n",
       "        vertical-align: middle;\n",
       "    }\n",
       "\n",
       "    .dataframe tbody tr th {\n",
       "        vertical-align: top;\n",
       "    }\n",
       "\n",
       "    .dataframe thead th {\n",
       "        text-align: right;\n",
       "    }\n",
       "</style>\n",
       "<table border=\"1\" class=\"dataframe\">\n",
       "  <thead>\n",
       "    <tr style=\"text-align: right;\">\n",
       "      <th></th>\n",
       "      <th>id</th>\n",
       "      <th>status_group</th>\n",
       "    </tr>\n",
       "  </thead>\n",
       "  <tbody>\n",
       "    <tr>\n",
       "      <th>0</th>\n",
       "      <td>50785</td>\n",
       "      <td>functional</td>\n",
       "    </tr>\n",
       "    <tr>\n",
       "      <th>1</th>\n",
       "      <td>51630</td>\n",
       "      <td>functional</td>\n",
       "    </tr>\n",
       "    <tr>\n",
       "      <th>2</th>\n",
       "      <td>17168</td>\n",
       "      <td>functional</td>\n",
       "    </tr>\n",
       "    <tr>\n",
       "      <th>3</th>\n",
       "      <td>45559</td>\n",
       "      <td>non functional</td>\n",
       "    </tr>\n",
       "    <tr>\n",
       "      <th>4</th>\n",
       "      <td>49871</td>\n",
       "      <td>functional</td>\n",
       "    </tr>\n",
       "  </tbody>\n",
       "</table>\n",
       "</div>"
      ],
      "text/plain": [
       "      id    status_group\n",
       "0  50785      functional\n",
       "1  51630      functional\n",
       "2  17168      functional\n",
       "3  45559  non functional\n",
       "4  49871      functional"
      ]
     },
     "execution_count": 96,
     "metadata": {},
     "output_type": "execute_result"
    }
   ],
   "source": [
    "submission_format['status_group'] = y_hat\n",
    "submission_format.head()"
   ]
  },
  {
   "cell_type": "code",
   "execution_count": 99,
   "metadata": {},
   "outputs": [],
   "source": [
    "submission_format.to_csv('data/preprocessed/predicted_test_labels.csv', index=False)"
   ]
  },
  {
   "cell_type": "markdown",
   "metadata": {},
   "source": [
    "<img src=\"submission_score.png\">"
   ]
  },
  {
   "cell_type": "markdown",
   "metadata": {},
   "source": [
    "### Ensamble"
   ]
  },
  {
   "cell_type": "code",
   "execution_count": null,
   "metadata": {},
   "outputs": [],
   "source": [
    "from sklearn.ensemble import VotingClassifier\n",
    "\n",
    "estimators = []\n",
    "model1 = LogisticRegression()\n",
    "estimators.append(('logistic', model1))\n",
    "model2 = DecisionTreeClassifier()\n",
    "estimators.append(('cart', model2))\n",
    "model3 = SVC()\n",
    "estimators.append(('svm', model3))\n",
    "# create the ensemble model\n",
    "ensemble = VotingClassifier(estimators)"
   ]
  },
  {
   "cell_type": "code",
   "execution_count": 254,
   "metadata": {
    "scrolled": true
   },
   "outputs": [],
   "source": [
    "# XGBClassifier\n",
    "# -------------\n",
    "# without preprocessing\n",
    "# Training Accuracy: 73.72%\n",
    "# Validation accuracy: 73.41%\n",
    "\n",
    "# construction year as continious data\n",
    "# Training Accuracy: 74.48%\n",
    "# Validation accuracy: 74.29%\n",
    "\n",
    "# construction year as categorical data\n",
    "# Training Accuracy: 73.96%\n",
    "# Validation accuracy: 73.78%"
   ]
  },
  {
   "cell_type": "code",
   "execution_count": 255,
   "metadata": {},
   "outputs": [],
   "source": [
    "# XGBClassifier - cleaned data\n",
    "# -------------\n",
    "# Training Accuracy: 75.54%\n",
    "# Validation accuracy: 64.77%"
   ]
  },
  {
   "cell_type": "code",
   "execution_count": null,
   "metadata": {},
   "outputs": [],
   "source": [
    "# XGBClassifier\n",
    "# -------------\n",
    "# Training Accuracy: 74.24%\n",
    "# Validation accuracy: 74.03%\n",
    "\n",
    "# With SMOTE Resampling\n",
    "# Training Accuracy: 71.25%\n",
    "# Validation accuracy: 67.09%\n",
    "\n",
    "# With SimpleInputer\n",
    "# Training Accuracy: 74.21%\n",
    "# Validation accuracy: 74.04%\n",
    "\n",
    "# With IterativeImputer\n",
    "# Training Accuracy: 74.08%\n",
    "# Validation accuracy: 73.92%"
   ]
  },
  {
   "cell_type": "code",
   "execution_count": 256,
   "metadata": {},
   "outputs": [],
   "source": [
    "# RandomForestClassifier - initial model\n",
    "# ----------------------\n",
    "# Training Accuracy: 99.63%\n",
    "# Validation accuracy: 79.48%"
   ]
  },
  {
   "cell_type": "code",
   "execution_count": 31,
   "metadata": {},
   "outputs": [],
   "source": [
    "# RandomForestClassifier\n",
    "# ----------------------\n",
    "# With SimpleInputer\n",
    "# 0.8018855218855219\n",
    "\n",
    "# With IterativeImputer\n",
    "# 0.7991919191919192\n",
    "\n",
    "# With SimpleInputer and year as cat\n",
    "# 0.8012794612794613"
   ]
  },
  {
   "cell_type": "code",
   "execution_count": 32,
   "metadata": {},
   "outputs": [],
   "source": [
    "# RandomForestClassifier - gridsearch.best_params_\n",
    "\n",
    "# With SimpleInputer\n",
    "# {'max_depth': 25, 'min_samples_leaf': 1, 'min_samples_split': 5}\n",
    "\n",
    "# With IterativeImputer\n",
    "# {'max_depth': 25, 'min_samples_leaf': 1, 'min_samples_split': 6}\n",
    "\n",
    "# With SimpleInputer and year as cat\n",
    "# {'max_depth': 25, 'min_samples_leaf': 1, 'min_samples_split': 6}"
   ]
  }
 ],
 "metadata": {
  "kernelspec": {
   "display_name": "Python 3",
   "language": "python",
   "name": "python3"
  },
  "language_info": {
   "codemirror_mode": {
    "name": "ipython",
    "version": 3
   },
   "file_extension": ".py",
   "mimetype": "text/x-python",
   "name": "python",
   "nbconvert_exporter": "python",
   "pygments_lexer": "ipython3",
   "version": "3.7.6"
  }
 },
 "nbformat": 4,
 "nbformat_minor": 2
}
